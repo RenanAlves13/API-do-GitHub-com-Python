{
 "cells": [
  {
   "cell_type": "code",
   "execution_count": null,
   "id": "f0eb871a",
   "metadata": {},
   "outputs": [],
   "source": [
    "Um release é uma iteração umplantável de software empacotado com arquivos binários e notas de versão"
   ]
  },
  {
   "cell_type": "code",
   "execution_count": null,
   "id": "45043567",
   "metadata": {},
   "outputs": [],
   "source": [
    "Criando um release:"
   ]
  },
  {
   "cell_type": "code",
   "execution_count": 3,
   "id": "9cf7f0bf",
   "metadata": {},
   "outputs": [
    {
     "name": "stdout",
     "output_type": "stream",
     "text": [
      "{\n",
      "    \"url\": \"https://api.github.com/repos/RenanAlves13/Metodos-Avancados-de-Programacao/releases/81945473\",\n",
      "    \"assets_url\": \"https://api.github.com/repos/RenanAlves13/Metodos-Avancados-de-Programacao/releases/81945473/assets\",\n",
      "    \"upload_url\": \"https://uploads.github.com/repos/RenanAlves13/Metodos-Avancados-de-Programacao/releases/81945473/assets{?name,label}\",\n",
      "    \"html_url\": \"https://github.com/RenanAlves13/Metodos-Avancados-de-Programacao/releases/tag/v0.2\",\n",
      "    \"id\": 81945473,\n",
      "    \"author\": {\n",
      "        \"login\": \"RenanAlves13\",\n",
      "        \"id\": 90640413,\n",
      "        \"node_id\": \"MDQ6VXNlcjkwNjQwNDEz\",\n",
      "        \"avatar_url\": \"https://avatars.githubusercontent.com/u/90640413?v=4\",\n",
      "        \"gravatar_id\": \"\",\n",
      "        \"url\": \"https://api.github.com/users/RenanAlves13\",\n",
      "        \"html_url\": \"https://github.com/RenanAlves13\",\n",
      "        \"followers_url\": \"https://api.github.com/users/RenanAlves13/followers\",\n",
      "        \"following_url\": \"https://api.github.com/users/RenanAlves13/following{/other_user}\",\n",
      "        \"gists_url\": \"https://api.github.com/users/RenanAlves13/gists{/gist_id}\",\n",
      "        \"starred_url\": \"https://api.github.com/users/RenanAlves13/starred{/owner}{/repo}\",\n",
      "        \"subscriptions_url\": \"https://api.github.com/users/RenanAlves13/subscriptions\",\n",
      "        \"organizations_url\": \"https://api.github.com/users/RenanAlves13/orgs\",\n",
      "        \"repos_url\": \"https://api.github.com/users/RenanAlves13/repos\",\n",
      "        \"events_url\": \"https://api.github.com/users/RenanAlves13/events{/privacy}\",\n",
      "        \"received_events_url\": \"https://api.github.com/users/RenanAlves13/received_events\",\n",
      "        \"type\": \"User\",\n",
      "        \"site_admin\": false\n",
      "    },\n",
      "    \"node_id\": \"RE_kwDOIMVdWs4E4mOB\",\n",
      "    \"tag_name\": \"v0.2\",\n",
      "    \"target_commitish\": \"master\",\n",
      "    \"name\": null,\n",
      "    \"draft\": false,\n",
      "    \"prerelease\": false,\n",
      "    \"created_at\": \"2022-10-20T10:45:18Z\",\n",
      "    \"published_at\": \"2022-11-03T12:27:53Z\",\n",
      "    \"assets\": [],\n",
      "    \"tarball_url\": \"https://api.github.com/repos/RenanAlves13/Metodos-Avancados-de-Programacao/tarball/v0.2\",\n",
      "    \"zipball_url\": \"https://api.github.com/repos/RenanAlves13/Metodos-Avancados-de-Programacao/zipball/v0.2\",\n",
      "    \"body\": null\n",
      "}\n"
     ]
    }
   ],
   "source": [
    "import json\n",
    "import requests\n",
    "\n",
    "header = {\n",
    "    'Authorization': '<token>',\n",
    "    'Accept': 'application/vnd.github.v3+json'\n",
    "}\n",
    "\n",
    "dados = json.dumps({\n",
    "    'tag_name': 'v0.2'\n",
    "})\n",
    "  \n",
    "url='https://api.github.com/repos/RenanAlves13/Metodos-Avancados-de-Programacao/releases'\n",
    "\n",
    "resposta = requests.post(url, headers=header, data=dados)\n",
    "print(json.dumps(resposta.json(), indent=4))"
   ]
  },
  {
   "cell_type": "code",
   "execution_count": null,
   "id": "16ceae0d",
   "metadata": {},
   "outputs": [],
   "source": [
    "listando releases:"
   ]
  },
  {
   "cell_type": "code",
   "execution_count": 4,
   "id": "a2dc0ea6",
   "metadata": {},
   "outputs": [
    {
     "name": "stdout",
     "output_type": "stream",
     "text": [
      "[\n",
      "    {\n",
      "        \"url\": \"https://api.github.com/repos/RenanAlves13/Metodos-Avancados-de-Programacao/releases/81945473\",\n",
      "        \"assets_url\": \"https://api.github.com/repos/RenanAlves13/Metodos-Avancados-de-Programacao/releases/81945473/assets\",\n",
      "        \"upload_url\": \"https://uploads.github.com/repos/RenanAlves13/Metodos-Avancados-de-Programacao/releases/81945473/assets{?name,label}\",\n",
      "        \"html_url\": \"https://github.com/RenanAlves13/Metodos-Avancados-de-Programacao/releases/tag/v0.2\",\n",
      "        \"id\": 81945473,\n",
      "        \"author\": {\n",
      "            \"login\": \"RenanAlves13\",\n",
      "            \"id\": 90640413,\n",
      "            \"node_id\": \"MDQ6VXNlcjkwNjQwNDEz\",\n",
      "            \"avatar_url\": \"https://avatars.githubusercontent.com/u/90640413?v=4\",\n",
      "            \"gravatar_id\": \"\",\n",
      "            \"url\": \"https://api.github.com/users/RenanAlves13\",\n",
      "            \"html_url\": \"https://github.com/RenanAlves13\",\n",
      "            \"followers_url\": \"https://api.github.com/users/RenanAlves13/followers\",\n",
      "            \"following_url\": \"https://api.github.com/users/RenanAlves13/following{/other_user}\",\n",
      "            \"gists_url\": \"https://api.github.com/users/RenanAlves13/gists{/gist_id}\",\n",
      "            \"starred_url\": \"https://api.github.com/users/RenanAlves13/starred{/owner}{/repo}\",\n",
      "            \"subscriptions_url\": \"https://api.github.com/users/RenanAlves13/subscriptions\",\n",
      "            \"organizations_url\": \"https://api.github.com/users/RenanAlves13/orgs\",\n",
      "            \"repos_url\": \"https://api.github.com/users/RenanAlves13/repos\",\n",
      "            \"events_url\": \"https://api.github.com/users/RenanAlves13/events{/privacy}\",\n",
      "            \"received_events_url\": \"https://api.github.com/users/RenanAlves13/received_events\",\n",
      "            \"type\": \"User\",\n",
      "            \"site_admin\": false\n",
      "        },\n",
      "        \"node_id\": \"RE_kwDOIMVdWs4E4mOB\",\n",
      "        \"tag_name\": \"v0.2\",\n",
      "        \"target_commitish\": \"master\",\n",
      "        \"name\": null,\n",
      "        \"draft\": false,\n",
      "        \"prerelease\": false,\n",
      "        \"created_at\": \"2022-10-20T10:45:18Z\",\n",
      "        \"published_at\": \"2022-11-03T12:27:53Z\",\n",
      "        \"assets\": [],\n",
      "        \"tarball_url\": \"https://api.github.com/repos/RenanAlves13/Metodos-Avancados-de-Programacao/tarball/v0.2\",\n",
      "        \"zipball_url\": \"https://api.github.com/repos/RenanAlves13/Metodos-Avancados-de-Programacao/zipball/v0.2\",\n",
      "        \"body\": null\n",
      "    },\n",
      "    {\n",
      "        \"url\": \"https://api.github.com/repos/RenanAlves13/Metodos-Avancados-de-Programacao/releases/81945169\",\n",
      "        \"assets_url\": \"https://api.github.com/repos/RenanAlves13/Metodos-Avancados-de-Programacao/releases/81945169/assets\",\n",
      "        \"upload_url\": \"https://uploads.github.com/repos/RenanAlves13/Metodos-Avancados-de-Programacao/releases/81945169/assets{?name,label}\",\n",
      "        \"html_url\": \"https://github.com/RenanAlves13/Metodos-Avancados-de-Programacao/releases/tag/v0.1\",\n",
      "        \"id\": 81945169,\n",
      "        \"author\": {\n",
      "            \"login\": \"RenanAlves13\",\n",
      "            \"id\": 90640413,\n",
      "            \"node_id\": \"MDQ6VXNlcjkwNjQwNDEz\",\n",
      "            \"avatar_url\": \"https://avatars.githubusercontent.com/u/90640413?v=4\",\n",
      "            \"gravatar_id\": \"\",\n",
      "            \"url\": \"https://api.github.com/users/RenanAlves13\",\n",
      "            \"html_url\": \"https://github.com/RenanAlves13\",\n",
      "            \"followers_url\": \"https://api.github.com/users/RenanAlves13/followers\",\n",
      "            \"following_url\": \"https://api.github.com/users/RenanAlves13/following{/other_user}\",\n",
      "            \"gists_url\": \"https://api.github.com/users/RenanAlves13/gists{/gist_id}\",\n",
      "            \"starred_url\": \"https://api.github.com/users/RenanAlves13/starred{/owner}{/repo}\",\n",
      "            \"subscriptions_url\": \"https://api.github.com/users/RenanAlves13/subscriptions\",\n",
      "            \"organizations_url\": \"https://api.github.com/users/RenanAlves13/orgs\",\n",
      "            \"repos_url\": \"https://api.github.com/users/RenanAlves13/repos\",\n",
      "            \"events_url\": \"https://api.github.com/users/RenanAlves13/events{/privacy}\",\n",
      "            \"received_events_url\": \"https://api.github.com/users/RenanAlves13/received_events\",\n",
      "            \"type\": \"User\",\n",
      "            \"site_admin\": false\n",
      "        },\n",
      "        \"node_id\": \"RE_kwDOIMVdWs4E4mJR\",\n",
      "        \"tag_name\": \"v0.1\",\n",
      "        \"target_commitish\": \"master\",\n",
      "        \"name\": \"Teste\",\n",
      "        \"draft\": false,\n",
      "        \"prerelease\": true,\n",
      "        \"created_at\": \"2022-10-20T10:45:18Z\",\n",
      "        \"published_at\": \"2022-11-03T12:24:50Z\",\n",
      "        \"assets\": [],\n",
      "        \"tarball_url\": \"https://api.github.com/repos/RenanAlves13/Metodos-Avancados-de-Programacao/tarball/v0.1\",\n",
      "        \"zipball_url\": \"https://api.github.com/repos/RenanAlves13/Metodos-Avancados-de-Programacao/zipball/v0.1\",\n",
      "        \"body\": \"Tag para ser usadas em estudos sobbre a API do GitHub\"\n",
      "    }\n",
      "]\n"
     ]
    }
   ],
   "source": [
    "header = {\n",
    "    'Authorization': '<token>',\n",
    "    'Accept': 'application/vnd.github.v3+json'\n",
    "}\n",
    "\n",
    "url = 'https://api.github.com/repos/RenanAlves13/Metodos-Avancados-de-Programacao/releases'\n",
    "\n",
    "resposta = requests.get(url, headers=header)\n",
    "print(json.dumps(resposta.json(), indent=4))"
   ]
  },
  {
   "cell_type": "code",
   "execution_count": null,
   "id": "6d4ce3e3",
   "metadata": {},
   "outputs": [],
   "source": [
    "Obtendo uma release:"
   ]
  },
  {
   "cell_type": "code",
   "execution_count": 7,
   "id": "95546580",
   "metadata": {},
   "outputs": [
    {
     "name": "stdout",
     "output_type": "stream",
     "text": [
      "{\n",
      "    \"url\": \"https://api.github.com/repos/RenanAlves13/Metodos-Avancados-de-Programacao/releases/81945473\",\n",
      "    \"assets_url\": \"https://api.github.com/repos/RenanAlves13/Metodos-Avancados-de-Programacao/releases/81945473/assets\",\n",
      "    \"upload_url\": \"https://uploads.github.com/repos/RenanAlves13/Metodos-Avancados-de-Programacao/releases/81945473/assets{?name,label}\",\n",
      "    \"html_url\": \"https://github.com/RenanAlves13/Metodos-Avancados-de-Programacao/releases/tag/v0.2\",\n",
      "    \"id\": 81945473,\n",
      "    \"author\": {\n",
      "        \"login\": \"RenanAlves13\",\n",
      "        \"id\": 90640413,\n",
      "        \"node_id\": \"MDQ6VXNlcjkwNjQwNDEz\",\n",
      "        \"avatar_url\": \"https://avatars.githubusercontent.com/u/90640413?v=4\",\n",
      "        \"gravatar_id\": \"\",\n",
      "        \"url\": \"https://api.github.com/users/RenanAlves13\",\n",
      "        \"html_url\": \"https://github.com/RenanAlves13\",\n",
      "        \"followers_url\": \"https://api.github.com/users/RenanAlves13/followers\",\n",
      "        \"following_url\": \"https://api.github.com/users/RenanAlves13/following{/other_user}\",\n",
      "        \"gists_url\": \"https://api.github.com/users/RenanAlves13/gists{/gist_id}\",\n",
      "        \"starred_url\": \"https://api.github.com/users/RenanAlves13/starred{/owner}{/repo}\",\n",
      "        \"subscriptions_url\": \"https://api.github.com/users/RenanAlves13/subscriptions\",\n",
      "        \"organizations_url\": \"https://api.github.com/users/RenanAlves13/orgs\",\n",
      "        \"repos_url\": \"https://api.github.com/users/RenanAlves13/repos\",\n",
      "        \"events_url\": \"https://api.github.com/users/RenanAlves13/events{/privacy}\",\n",
      "        \"received_events_url\": \"https://api.github.com/users/RenanAlves13/received_events\",\n",
      "        \"type\": \"User\",\n",
      "        \"site_admin\": false\n",
      "    },\n",
      "    \"node_id\": \"RE_kwDOIMVdWs4E4mOB\",\n",
      "    \"tag_name\": \"v0.2\",\n",
      "    \"target_commitish\": \"master\",\n",
      "    \"name\": null,\n",
      "    \"draft\": false,\n",
      "    \"prerelease\": false,\n",
      "    \"created_at\": \"2022-10-20T10:45:18Z\",\n",
      "    \"published_at\": \"2022-11-03T12:27:53Z\",\n",
      "    \"assets\": [],\n",
      "    \"tarball_url\": \"https://api.github.com/repos/RenanAlves13/Metodos-Avancados-de-Programacao/tarball/v0.2\",\n",
      "    \"zipball_url\": \"https://api.github.com/repos/RenanAlves13/Metodos-Avancados-de-Programacao/zipball/v0.2\",\n",
      "    \"body\": null\n",
      "}\n"
     ]
    }
   ],
   "source": [
    "header = {\n",
    "    'Authorization': '<token>',\n",
    "    'Accept': 'application/vnd.github.v3+json'\n",
    "}\n",
    "\n",
    "url = 'https://api.github.com/repos/RenanAlves13/Metodos-Avancados-de-Programacao/releases/81945473'\n",
    "\n",
    "resposta = requests.get(url, headers=header)\n",
    "print(json.dumps(resposta.json(), indent=4))"
   ]
  },
  {
   "cell_type": "code",
   "execution_count": null,
   "id": "fddef1d8",
   "metadata": {},
   "outputs": [],
   "source": [
    "Atualizando uma release:"
   ]
  },
  {
   "cell_type": "code",
   "execution_count": 8,
   "id": "e7136a55",
   "metadata": {},
   "outputs": [
    {
     "name": "stdout",
     "output_type": "stream",
     "text": [
      "{\n",
      "    \"url\": \"https://api.github.com/repos/RenanAlves13/Metodos-Avancados-de-Programacao/releases/81945473\",\n",
      "    \"assets_url\": \"https://api.github.com/repos/RenanAlves13/Metodos-Avancados-de-Programacao/releases/81945473/assets\",\n",
      "    \"upload_url\": \"https://uploads.github.com/repos/RenanAlves13/Metodos-Avancados-de-Programacao/releases/81945473/assets{?name,label}\",\n",
      "    \"html_url\": \"https://github.com/RenanAlves13/Metodos-Avancados-de-Programacao/releases/tag/v.0.2.1\",\n",
      "    \"id\": 81945473,\n",
      "    \"author\": {\n",
      "        \"login\": \"RenanAlves13\",\n",
      "        \"id\": 90640413,\n",
      "        \"node_id\": \"MDQ6VXNlcjkwNjQwNDEz\",\n",
      "        \"avatar_url\": \"https://avatars.githubusercontent.com/u/90640413?v=4\",\n",
      "        \"gravatar_id\": \"\",\n",
      "        \"url\": \"https://api.github.com/users/RenanAlves13\",\n",
      "        \"html_url\": \"https://github.com/RenanAlves13\",\n",
      "        \"followers_url\": \"https://api.github.com/users/RenanAlves13/followers\",\n",
      "        \"following_url\": \"https://api.github.com/users/RenanAlves13/following{/other_user}\",\n",
      "        \"gists_url\": \"https://api.github.com/users/RenanAlves13/gists{/gist_id}\",\n",
      "        \"starred_url\": \"https://api.github.com/users/RenanAlves13/starred{/owner}{/repo}\",\n",
      "        \"subscriptions_url\": \"https://api.github.com/users/RenanAlves13/subscriptions\",\n",
      "        \"organizations_url\": \"https://api.github.com/users/RenanAlves13/orgs\",\n",
      "        \"repos_url\": \"https://api.github.com/users/RenanAlves13/repos\",\n",
      "        \"events_url\": \"https://api.github.com/users/RenanAlves13/events{/privacy}\",\n",
      "        \"received_events_url\": \"https://api.github.com/users/RenanAlves13/received_events\",\n",
      "        \"type\": \"User\",\n",
      "        \"site_admin\": false\n",
      "    },\n",
      "    \"node_id\": \"RE_kwDOIMVdWs4E4mOB\",\n",
      "    \"tag_name\": \"v.0.2.1\",\n",
      "    \"target_commitish\": \"master\",\n",
      "    \"name\": null,\n",
      "    \"draft\": false,\n",
      "    \"prerelease\": false,\n",
      "    \"created_at\": \"2022-10-20T10:45:18Z\",\n",
      "    \"published_at\": \"2022-11-03T12:27:53Z\",\n",
      "    \"assets\": [],\n",
      "    \"tarball_url\": \"https://api.github.com/repos/RenanAlves13/Metodos-Avancados-de-Programacao/tarball/v.0.2.1\",\n",
      "    \"zipball_url\": \"https://api.github.com/repos/RenanAlves13/Metodos-Avancados-de-Programacao/zipball/v.0.2.1\",\n",
      "    \"body\": null\n",
      "}\n"
     ]
    }
   ],
   "source": [
    "header = {\n",
    "    'Authorization': '<token>',\n",
    "    'Accept': 'application/vnd.github.v3+json'\n",
    "}\n",
    "\n",
    "dados = json.dumps({\n",
    "    'tag_name': 'v.0.2.1'\n",
    "})\n",
    "\n",
    "url='https://api.github.com/repos/RenanAlves13/Metodos-Avancados-de-Programacao/releases/81945473'\n",
    "\n",
    "resposta = requests.patch(url, headers=header, data=dados)\n",
    "print(json.dumps(resposta.json(), indent=4))"
   ]
  },
  {
   "cell_type": "code",
   "execution_count": null,
   "id": "4e7897e2",
   "metadata": {},
   "outputs": [],
   "source": [
    "Deletando uma release:"
   ]
  },
  {
   "cell_type": "code",
   "execution_count": 9,
   "id": "2bf4b77d",
   "metadata": {},
   "outputs": [
    {
     "name": "stdout",
     "output_type": "stream",
     "text": [
      "A release foi deletada com sucesso.\n"
     ]
    }
   ],
   "source": [
    "header = {\n",
    "    'Authorization': '<token>',\n",
    "    'Accept': 'application/vnd.github.v3+json'\n",
    "}\n",
    "\n",
    "url = 'https://api.github.com/repos/RenanAlves13/Metodos-Avancados-de-Programacao/releases/81945473'\n",
    "\n",
    "resposta = requests.delete(url, headers=header)\n",
    "\n",
    "if resposta.status_code == 204:\n",
    "    print('A release foi deletada com sucesso.')\n",
    "else:\n",
    "    print('Algo aconteceu de errado.')"
   ]
  },
  {
   "cell_type": "code",
   "execution_count": null,
   "id": "2e1f2788",
   "metadata": {},
   "outputs": [],
   "source": []
  }
 ],
 "metadata": {
  "kernelspec": {
   "display_name": "Python 3 (ipykernel)",
   "language": "python",
   "name": "python3"
  },
  "language_info": {
   "codemirror_mode": {
    "name": "ipython",
    "version": 3
   },
   "file_extension": ".py",
   "mimetype": "text/x-python",
   "name": "python",
   "nbconvert_exporter": "python",
   "pygments_lexer": "ipython3",
   "version": "3.9.12"
  }
 },
 "nbformat": 4,
 "nbformat_minor": 5
}
