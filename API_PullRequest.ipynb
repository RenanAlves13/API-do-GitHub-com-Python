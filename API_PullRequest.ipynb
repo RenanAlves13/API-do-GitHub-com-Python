{
 "cells": [
  {
   "cell_type": "code",
   "execution_count": null,
   "id": "3e272b59",
   "metadata": {},
   "outputs": [],
   "source": [
    "List the collaborators of the repository"
   ]
  },
  {
   "cell_type": "code",
   "execution_count": 6,
   "id": "3821737a",
   "metadata": {},
   "outputs": [
    {
     "name": "stdout",
     "output_type": "stream",
     "text": [
      "[\n",
      "    {\n",
      "        \"login\": \"Thiti1311\",\n",
      "        \"id\": 85183324,\n",
      "        \"node_id\": \"MDQ6VXNlcjg1MTgzMzI0\",\n",
      "        \"avatar_url\": \"https://avatars.githubusercontent.com/u/85183324?v=4\",\n",
      "        \"gravatar_id\": \"\",\n",
      "        \"url\": \"https://api.github.com/users/Thiti1311\",\n",
      "        \"html_url\": \"https://github.com/Thiti1311\",\n",
      "        \"followers_url\": \"https://api.github.com/users/Thiti1311/followers\",\n",
      "        \"following_url\": \"https://api.github.com/users/Thiti1311/following{/other_user}\",\n",
      "        \"gists_url\": \"https://api.github.com/users/Thiti1311/gists{/gist_id}\",\n",
      "        \"starred_url\": \"https://api.github.com/users/Thiti1311/starred{/owner}{/repo}\",\n",
      "        \"subscriptions_url\": \"https://api.github.com/users/Thiti1311/subscriptions\",\n",
      "        \"organizations_url\": \"https://api.github.com/users/Thiti1311/orgs\",\n",
      "        \"repos_url\": \"https://api.github.com/users/Thiti1311/repos\",\n",
      "        \"events_url\": \"https://api.github.com/users/Thiti1311/events{/privacy}\",\n",
      "        \"received_events_url\": \"https://api.github.com/users/Thiti1311/received_events\",\n",
      "        \"type\": \"User\",\n",
      "        \"site_admin\": false,\n",
      "        \"permissions\": {\n",
      "            \"admin\": false,\n",
      "            \"maintain\": false,\n",
      "            \"push\": true,\n",
      "            \"triage\": true,\n",
      "            \"pull\": true\n",
      "        },\n",
      "        \"role_name\": \"write\"\n",
      "    },\n",
      "    {\n",
      "        \"login\": \"RenanAlves13\",\n",
      "        \"id\": 90640413,\n",
      "        \"node_id\": \"MDQ6VXNlcjkwNjQwNDEz\",\n",
      "        \"avatar_url\": \"https://avatars.githubusercontent.com/u/90640413?v=4\",\n",
      "        \"gravatar_id\": \"\",\n",
      "        \"url\": \"https://api.github.com/users/RenanAlves13\",\n",
      "        \"html_url\": \"https://github.com/RenanAlves13\",\n",
      "        \"followers_url\": \"https://api.github.com/users/RenanAlves13/followers\",\n",
      "        \"following_url\": \"https://api.github.com/users/RenanAlves13/following{/other_user}\",\n",
      "        \"gists_url\": \"https://api.github.com/users/RenanAlves13/gists{/gist_id}\",\n",
      "        \"starred_url\": \"https://api.github.com/users/RenanAlves13/starred{/owner}{/repo}\",\n",
      "        \"subscriptions_url\": \"https://api.github.com/users/RenanAlves13/subscriptions\",\n",
      "        \"organizations_url\": \"https://api.github.com/users/RenanAlves13/orgs\",\n",
      "        \"repos_url\": \"https://api.github.com/users/RenanAlves13/repos\",\n",
      "        \"events_url\": \"https://api.github.com/users/RenanAlves13/events{/privacy}\",\n",
      "        \"received_events_url\": \"https://api.github.com/users/RenanAlves13/received_events\",\n",
      "        \"type\": \"User\",\n",
      "        \"site_admin\": false,\n",
      "        \"permissions\": {\n",
      "            \"admin\": true,\n",
      "            \"maintain\": true,\n",
      "            \"push\": true,\n",
      "            \"triage\": true,\n",
      "            \"pull\": true\n",
      "        },\n",
      "        \"role_name\": \"admin\"\n",
      "    }\n",
      "]\n"
     ]
    }
   ],
   "source": [
    "import requests\n",
    "import json\n",
    "\n",
    "header = {\n",
    "    'Authorization': 'token',\n",
    "    'Accept': 'application/vnd.github.v3+json'\n",
    "}\n",
    "\n",
    "url='https://api.github.com/repos/RenanAlves13/Metodos-Avancados-de-Programacao/collaborators'\n",
    "\n",
    "resposta = requests.get(url, headers=header)\n",
    "print(json.dumps(resposta.json(), indent=4))"
   ]
  },
  {
   "cell_type": "code",
   "execution_count": null,
   "id": "9069b76f",
   "metadata": {},
   "outputs": [],
   "source": [
    "Check if a user is a collaborator of the repository\n",
    "\n",
    "    * We need to specify the username of the user to be checked, in the place of <username> in the URL\n",
    "    * O código pode enviar as seguintes respostas:\n",
    "        \n",
    "        -> 204: O usuário é o colaborador do repositório.\n",
    "        -> 404: O usuário não é o colaborador do repositório"
   ]
  },
  {
   "cell_type": "code",
   "execution_count": 8,
   "id": "08ca0923",
   "metadata": {},
   "outputs": [
    {
     "name": "stdout",
     "output_type": "stream",
     "text": [
      "O usuário não é um colaborador.\n"
     ]
    }
   ],
   "source": [
    "header = {\n",
    "    'Authorization': 'token',\n",
    "    'Accept': 'application/vnd.github.v3+json'\n",
    "}\n",
    "\n",
    "url ='https://api.github.com/repos/RenanAlves13/Metodos-Avancados-de-Programacao/collaborators/<username>'\n",
    "\n",
    "resposta = requests.get(url, headers=header)\n",
    "\n",
    "if resposta.status_code == 204:\n",
    "    print('O usuário é um colaborador.')\n",
    "else:\n",
    "    print('O usuário não é um colaborador.')    "
   ]
  },
  {
   "cell_type": "code",
   "execution_count": null,
   "id": "7ae1bb90",
   "metadata": {},
   "outputs": [],
   "source": [
    "Add a collaborator to the repository\n",
    "\n",
    "    *Um colaborador pode ser adicionado com as seguintes permissões:\n",
    "        \n",
    "        -> pull: Isso permite que o colaborador apenas puxe o repositório.\n",
    "        -> push: Isso permite que o colaborador apenas faça push do repositório.\n",
    "        -> admin: Isso permite que o colaborador puxe, empurre e administre.\n",
    "        -> maintain: Esta permissão é para gerentes gerenciarem repositórios sem acesso a dados confidenciais.\n",
    "        -> triage: isso é para os contribuidores gerenciarem solicitações pull sem o acesso de gravação.\n",
    "\n",
    "    * Specify the username of the collaborator in the place of <username> in the URL"
   ]
  },
  {
   "cell_type": "code",
   "execution_count": 9,
   "id": "251b49c6",
   "metadata": {},
   "outputs": [
    {
     "name": "stdout",
     "output_type": "stream",
     "text": [
      "{\n",
      "    \"message\": \"Not Found\",\n",
      "    \"documentation_url\": \"https://docs.github.com/rest/collaborators/collaborators#add-a-repository-collaborator\"\n",
      "}\n"
     ]
    }
   ],
   "source": [
    "header = {\n",
    "    'Authorization': 'token',\n",
    "    'Accept': 'application/vnd.github.v3+json'\n",
    "}\n",
    "\n",
    "url = 'https://api.github.com/repos/RenanAlves13/Metodos-Avancados-de-Programacao/collaborators/<username>'\n",
    "\n",
    "data = json.dumps({\n",
    "    'permission': '<permission>'\n",
    "})\n",
    "\n",
    "resposta = requests.put(url, headers=header, data=data)\n",
    "print(json.dumps(resposta.json(), indent=4))"
   ]
  },
  {
   "cell_type": "code",
   "execution_count": null,
   "id": "5ae6827d",
   "metadata": {},
   "outputs": [],
   "source": [
    "Remove a collaborator from a repository"
   ]
  },
  {
   "cell_type": "code",
   "execution_count": 10,
   "id": "fd877c4d",
   "metadata": {},
   "outputs": [
    {
     "name": "stdout",
     "output_type": "stream",
     "text": [
      "<Response [404]>\n"
     ]
    }
   ],
   "source": [
    "header = {\n",
    "    'Authorization': 'token',\n",
    "    'Accept': 'application/vnd.github.v3+json'\n",
    "}\n",
    "\n",
    "url='https://api.github.com/repos/RenanAlves13/Metodos-Avancados-de-Programacao/collaborators/<username>'\n",
    "\n",
    "resposta = requests.delete(url, headers=header)\n",
    "\n",
    "print(resposta)"
   ]
  },
  {
   "cell_type": "code",
   "execution_count": null,
   "id": "578b06d1",
   "metadata": {},
   "outputs": [],
   "source": [
    "Get the permission of a repository’s user"
   ]
  },
  {
   "cell_type": "code",
   "execution_count": 11,
   "id": "c6e2e98a",
   "metadata": {},
   "outputs": [
    {
     "name": "stdout",
     "output_type": "stream",
     "text": [
      "{\n",
      "    \"message\": \"<username> is not a user\",\n",
      "    \"documentation_url\": \"https://docs.github.com/rest/collaborators/collaborators#get-repository-permissions-for-a-user\"\n",
      "}\n"
     ]
    }
   ],
   "source": [
    "header = {\n",
    "    'Authorization': 'token',\n",
    "    'Accept': 'application/vnd.github.v3+json'\n",
    "}\n",
    "\n",
    "url='https://api.github.com/repos/RenanAlves13/Metodos-Avancados-de-Programacao/collaborators/<username>/permission'\n",
    "\n",
    "resposta = requests.get(url, headers=header)\n",
    "print(json.dumps(resposta.json(), indent=4))"
   ]
  },
  {
   "cell_type": "code",
   "execution_count": null,
   "id": "610d0085",
   "metadata": {},
   "outputs": [],
   "source": [
    "Create a pull request\n",
    "\n",
    "    * Creating a pull request requires granting write access to the head branch\n",
    "    * Existem vários parametros para pull request"
   ]
  },
  {
   "cell_type": "code",
   "execution_count": 5,
   "id": "3518a260",
   "metadata": {},
   "outputs": [
    {
     "name": "stdout",
     "output_type": "stream",
     "text": [
      "{\n",
      "    \"message\": \"Validation Failed\",\n",
      "    \"errors\": [\n",
      "        {\n",
      "            \"resource\": \"PullRequest\",\n",
      "            \"field\": \"base\",\n",
      "            \"code\": \"invalid\"\n",
      "        },\n",
      "        {\n",
      "            \"resource\": \"PullRequest\",\n",
      "            \"field\": \"head\",\n",
      "            \"code\": \"invalid\"\n",
      "        }\n",
      "    ],\n",
      "    \"documentation_url\": \"https://docs.github.com/rest/reference/pulls#create-a-pull-request\"\n",
      "}\n"
     ]
    }
   ],
   "source": [
    "import requests\n",
    "import json\n",
    "\n",
    "header = {\n",
    "    'Authorization': 'token',\n",
    "    'Accept': 'application/vnd.github.v3+json'\n",
    "}\n",
    "\n",
    "data = json.dumps({\n",
    "    'title': '<title>',\n",
    "    'head': '<head-name>',\n",
    "    'base': '<base-name>'\n",
    "})\n",
    "\n",
    "url='https://api.github.com/repos/RenanAlves13/Metodos-Avancados-de-Programacao/pulls'\n",
    "\n",
    "resposta = requests.post(url, headers=header, data=data)\n",
    "print(json.dumps(resposta.json(), indent=4))"
   ]
  },
  {
   "cell_type": "code",
   "execution_count": null,
   "id": "e1847ecb",
   "metadata": {},
   "outputs": [],
   "source": [
    "Get a pull request"
   ]
  },
  {
   "cell_type": "code",
   "execution_count": 6,
   "id": "f57fccb0",
   "metadata": {},
   "outputs": [
    {
     "name": "stdout",
     "output_type": "stream",
     "text": [
      "{\n",
      "    \"message\": \"Not Found\",\n",
      "    \"documentation_url\": \"https://docs.github.com/rest/reference/pulls#get-a-pull-request\"\n",
      "}\n"
     ]
    }
   ],
   "source": [
    "header = {\n",
    "    'Authorization': 'token',\n",
    "    'Accept': 'application/vnd.github.v3+json'\n",
    "}\n",
    "\n",
    "url='https://api.github.com/repos/RenanAlves13/Metodos-Avancados-de-Programacao/pulls/1'\n",
    "\n",
    "resposta = requests.get(url, headers=header)\n",
    "print(json.dumps(resposta.json(), indent=4))"
   ]
  },
  {
   "cell_type": "code",
   "execution_count": null,
   "id": "e3c39d2b",
   "metadata": {},
   "outputs": [],
   "source": [
    "List pull requests"
   ]
  },
  {
   "cell_type": "code",
   "execution_count": 7,
   "id": "425908e0",
   "metadata": {},
   "outputs": [
    {
     "name": "stdout",
     "output_type": "stream",
     "text": [
      "[]\n"
     ]
    }
   ],
   "source": [
    "header = {\n",
    "    'Authorization': 'token',\n",
    "    'Accept': 'application/vnd.github.v3+json'\n",
    "}\n",
    "\n",
    "url= 'https://api.github.com/repos/RenanAlves13/Metodos-Avancados-de-Programacao/pulls'\n",
    "\n",
    "resposta = requests.get(url, headers=header)\n",
    "print(json.dumps(resposta.json(), indent=4))"
   ]
  },
  {
   "cell_type": "code",
   "execution_count": null,
   "id": "9d97d0b0",
   "metadata": {},
   "outputs": [],
   "source": [
    "List commits on a pull request\n",
    "\n",
    "    * Usando dessa forma apenas 250 commits podem ser listados"
   ]
  },
  {
   "cell_type": "code",
   "execution_count": 8,
   "id": "a2626865",
   "metadata": {},
   "outputs": [
    {
     "name": "stdout",
     "output_type": "stream",
     "text": [
      "{\n",
      "    \"message\": \"Not Found\",\n",
      "    \"documentation_url\": \"https://docs.github.com/rest/reference/pulls#list-commits-on-a-pull-request\"\n",
      "}\n"
     ]
    }
   ],
   "source": [
    "header = {\n",
    "    'Authorization': 'token',\n",
    "    'Accept': 'application/vnd.github.v3+json'\n",
    "}\n",
    "\n",
    "url= 'https://api.github.com/repos/RenanAlves13/Metodos-Avancados-de-Programacao/pulls/1/commits'\n",
    "\n",
    "resposta = requests.get(url, headers=header)\n",
    "print(json.dumps(resposta.json(), indent=4))"
   ]
  },
  {
   "cell_type": "code",
   "execution_count": null,
   "id": "006e5090",
   "metadata": {},
   "outputs": [],
   "source": [
    "Merge a pull request"
   ]
  },
  {
   "cell_type": "code",
   "execution_count": 9,
   "id": "189e2275",
   "metadata": {},
   "outputs": [
    {
     "name": "stdout",
     "output_type": "stream",
     "text": [
      "{\n",
      "    \"message\": \"Not Found\",\n",
      "    \"documentation_url\": \"https://docs.github.com/rest/reference/pulls#merge-a-pull-request\"\n",
      "}\n"
     ]
    }
   ],
   "source": [
    "header = {\n",
    "    'Authorization': 'token',\n",
    "    'Accept': 'application/vnd.github.v3+json'\n",
    "}\n",
    "\n",
    "data = json.dumps({\n",
    "    'commit_title': '<title>'\n",
    "})\n",
    "\n",
    "url= 'https://api.github.com/repos/RenanAlves13/Metodos-Avancados-de-Programacao/pulls/1/merge'\n",
    "\n",
    "resposta = requests.put(url, headers=header, data=data)\n",
    "print(json.dumps(resposta.json(), indent=4))"
   ]
  },
  {
   "cell_type": "code",
   "execution_count": null,
   "id": "de3d38e9",
   "metadata": {},
   "outputs": [],
   "source": [
    "Check if a pull request has been merged\n",
    "\n",
    "    * Só gera a solicitação depois da \"mesclagem\"\n",
    "    * Pode gerar uma resposta 204 ou 404"
   ]
  },
  {
   "cell_type": "code",
   "execution_count": 10,
   "id": "f82e0494",
   "metadata": {},
   "outputs": [
    {
     "name": "stdout",
     "output_type": "stream",
     "text": [
      "<Response [404]>\n"
     ]
    }
   ],
   "source": [
    "header = {\n",
    "    'Authorization': 'token',\n",
    "    'Accept': 'application/vnd.github.v3+json'\n",
    "}\n",
    "\n",
    "url='https://api.github.com/repos/RenanAlves13/Metodos-Avancados-de-Programacao/pulls/1/merge'\n",
    "\n",
    "resposta = requests.get(url, headers=header)\n",
    "print(resposta)"
   ]
  },
  {
   "cell_type": "code",
   "execution_count": null,
   "id": "4f6d421d",
   "metadata": {},
   "outputs": [],
   "source": []
  }
 ],
 "metadata": {
  "kernelspec": {
   "display_name": "Python 3 (ipykernel)",
   "language": "python",
   "name": "python3"
  },
  "language_info": {
   "codemirror_mode": {
    "name": "ipython",
    "version": 3
   },
   "file_extension": ".py",
   "mimetype": "text/x-python",
   "name": "python",
   "nbconvert_exporter": "python",
   "pygments_lexer": "ipython3",
   "version": "3.9.12"
  }
 },
 "nbformat": 4,
 "nbformat_minor": 5
}
